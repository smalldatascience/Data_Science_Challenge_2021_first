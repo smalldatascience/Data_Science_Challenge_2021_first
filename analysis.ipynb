{
 "cells": [
  {
   "cell_type": "code",
   "execution_count": 1,
   "id": "preliminary-storage",
   "metadata": {},
   "outputs": [
    {
     "name": "stderr",
     "output_type": "stream",
     "text": [
      "Loading required package: tidyverse\n",
      "Warning message:\n",
      "\"package 'tidyverse' was built under R version 3.6.3\"Error: package or namespace load failed for 'tidyverse' in loadNamespace(i, c(lib.loc, .libPaths()), versionCheck = vI[[i]]):\n",
      " namespace 'rlang' 0.4.6 is already loaded, but >= 0.4.10 is required\n",
      "Installing package into 'C:/Users/maxim/Documents/R/win-library/3.6'\n",
      "(as 'lib' is unspecified)\n",
      "also installing the dependencies 'jsonlite', 'pillar', 'rlang'\n",
      "\n"
     ]
    },
    {
     "name": "stdout",
     "output_type": "stream",
     "text": [
      "\n",
      "  There is a binary version available but the source version is later:\n",
      "       binary source needs_compilation\n",
      "pillar  1.6.0  1.6.1             FALSE\n",
      "\n",
      "package 'jsonlite' successfully unpacked and MD5 sums checked\n"
     ]
    },
    {
     "name": "stderr",
     "output_type": "stream",
     "text": [
      "Warning message:\n",
      "\"cannot remove prior installation of package 'jsonlite'\"Warning message in file.copy(savedcopy, lib, recursive = TRUE):\n",
      "\"Problem C:\\Users\\maxim\\Documents\\R\\win-library\\3.6\\00LOCK\\jsonlite\\libs\\x64\\jsonlite.dll nach C:\\Users\\maxim\\Documents\\R\\win-library\\3.6\\jsonlite\\libs\\x64\\jsonlite.dll zu kopieren: Permission denied\"Warning message:\n",
      "\"restored 'jsonlite'\""
     ]
    },
    {
     "name": "stdout",
     "output_type": "stream",
     "text": [
      "package 'rlang' successfully unpacked and MD5 sums checked\n"
     ]
    },
    {
     "name": "stderr",
     "output_type": "stream",
     "text": [
      "Warning message:\n",
      "\"cannot remove prior installation of package 'rlang'\"Warning message in file.copy(savedcopy, lib, recursive = TRUE):\n",
      "\"Problem C:\\Users\\maxim\\Documents\\R\\win-library\\3.6\\00LOCK\\rlang\\libs\\x64\\rlang.dll nach C:\\Users\\maxim\\Documents\\R\\win-library\\3.6\\rlang\\libs\\x64\\rlang.dll zu kopieren: Permission denied\"Warning message:\n",
      "\"restored 'rlang'\""
     ]
    },
    {
     "name": "stdout",
     "output_type": "stream",
     "text": [
      "package 'tidyverse' successfully unpacked and MD5 sums checked\n",
      "\n",
      "The downloaded binary packages are in\n",
      "\tC:\\Users\\maxim\\AppData\\Local\\Temp\\RtmpeSRcL3\\downloaded_packages\n"
     ]
    },
    {
     "name": "stderr",
     "output_type": "stream",
     "text": [
      "installing the source package 'pillar'\n",
      "\n",
      "Warning message in install.packages(x, dependencies = TRUE):\n",
      "\"installation of package 'pillar' had non-zero exit status\"Warning message:\n",
      "\"package 'tidyverse' was built under R version 3.6.3\""
     ]
    },
    {
     "ename": "ERROR",
     "evalue": "Error: package or namespace load failed for 'tidyverse' in loadNamespace(i, c(lib.loc, .libPaths()), versionCheck = vI[[i]]):\n namespace 'rlang' 0.4.6 is already loaded, but >= 0.4.10 is required\n",
     "output_type": "error",
     "traceback": [
      "Error: package or namespace load failed for 'tidyverse' in loadNamespace(i, c(lib.loc, .libPaths()), versionCheck = vI[[i]]):\n namespace 'rlang' 0.4.6 is already loaded, but >= 0.4.10 is required\nTraceback:\n",
      "1. lapply(packages, FUN = function(x) {\n .     if (!require(x, character.only = TRUE)) {\n .         install.packages(x, dependencies = TRUE)\n .         library(x, character.only = TRUE)\n .     }\n . })",
      "2. FUN(X[[i]], ...)",
      "3. library(x, character.only = TRUE)   # at line 12 of file <text>",
      "4. tryCatch({\n .     attr(package, \"LibPath\") <- which.lib.loc\n .     ns <- loadNamespace(package, lib.loc)\n .     env <- attachNamespace(ns, pos = pos, deps, exclude, include.only)\n . }, error = function(e) {\n .     P <- if (!is.null(cc <- conditionCall(e))) \n .         paste(\" in\", deparse(cc)[1L])\n .     else \"\"\n .     msg <- gettextf(\"package or namespace load failed for %s%s:\\n %s\", \n .         sQuote(package), P, conditionMessage(e))\n .     if (logical.return) \n .         message(paste(\"Error:\", msg), domain = NA)\n .     else stop(msg, call. = FALSE, domain = NA)\n . })",
      "5. tryCatchList(expr, classes, parentenv, handlers)",
      "6. tryCatchOne(expr, names, parentenv, handlers[[1L]])",
      "7. value[[3L]](cond)",
      "8. stop(msg, call. = FALSE, domain = NA)"
     ]
    }
   ],
   "source": [
    "## First install and load if necessary the following packages\n",
    "\n",
    "packages = c(\"tidyverse\", \"data.table\",\n",
    "             \"ggthemes\")\n",
    "\n",
    "## Now load or install&load all\n",
    "package.check <- lapply(\n",
    "  packages,\n",
    "  FUN = function(x) {\n",
    "    if (!require(x, character.only = TRUE)) {\n",
    "      install.packages(x, dependencies = TRUE)\n",
    "      library(x, character.only = TRUE)\n",
    "    }\n",
    "  }\n",
    ")"
   ]
  },
  {
   "cell_type": "code",
   "execution_count": 3,
   "id": "lesser-tunisia",
   "metadata": {
    "scrolled": true
   },
   "outputs": [
    {
     "name": "stderr",
     "output_type": "stream",
     "text": [
      "Warning message:\n",
      "\"package 'tidyverse' was built under R version 3.6.3\""
     ]
    },
    {
     "ename": "ERROR",
     "evalue": "Error: package or namespace load failed for 'tidyverse' in loadNamespace(i, c(lib.loc, .libPaths()), versionCheck = vI[[i]]):\n namespace 'rlang' 0.4.6 is already loaded, but >= 0.4.10 is required\n",
     "output_type": "error",
     "traceback": [
      "Error: package or namespace load failed for 'tidyverse' in loadNamespace(i, c(lib.loc, .libPaths()), versionCheck = vI[[i]]):\n namespace 'rlang' 0.4.6 is already loaded, but >= 0.4.10 is required\nTraceback:\n",
      "1. library(\"tidyverse\")",
      "2. tryCatch({\n .     attr(package, \"LibPath\") <- which.lib.loc\n .     ns <- loadNamespace(package, lib.loc)\n .     env <- attachNamespace(ns, pos = pos, deps, exclude, include.only)\n . }, error = function(e) {\n .     P <- if (!is.null(cc <- conditionCall(e))) \n .         paste(\" in\", deparse(cc)[1L])\n .     else \"\"\n .     msg <- gettextf(\"package or namespace load failed for %s%s:\\n %s\", \n .         sQuote(package), P, conditionMessage(e))\n .     if (logical.return) \n .         message(paste(\"Error:\", msg), domain = NA)\n .     else stop(msg, call. = FALSE, domain = NA)\n . })",
      "3. tryCatchList(expr, classes, parentenv, handlers)",
      "4. tryCatchOne(expr, names, parentenv, handlers[[1L]])",
      "5. value[[3L]](cond)",
      "6. stop(msg, call. = FALSE, domain = NA)"
     ]
    }
   ],
   "source": [
    "library(\"data.table\")\n",
    "library(\"tidyverse\")\n",
    "library(\"ggthemes\")\n",
    "\n",
    "for (k in seq(2002,2019)){\n",
    "  my_url<- paste(\"https://raw.githubusercontent.com/smalldatascience/Versicherungsstatistik/master/data_en/statistic_\", k,\".txt\", sep=\"\")\n",
    "  hhh <- fread(my_url)\n",
    "  #assign(paste(\"myfile\", k, sep = \"\"), hhh)\n",
    "  if (k==2002) allData <- hhh else allData <- rbind(allData, hhh)\n",
    "}\n",
    "rm(hhh, k,my_url)\n",
    "\n",
    "##################################### Data sorting #########################\n",
    "\n",
    "myData <- as_tibble(allData) %>% \n",
    "  dplyr::filter(grepl(\"Claims ratios\",Tabelle)) %>%    ## filter out only claims ratios\n",
    "  select(-`Insurance undertaking`) %>%\n",
    "  mutate(\"categoryy\"=unlist(map(strsplit(Tabelle, '\\\"\\\"'),2))) %>%\n",
    "  mutate(\"category1\"=unlist(map(strsplit(category, \"!\"),1))) %>% ##unterteile kategory \"nach Zeile\" original data\n",
    "  mutate(\"direct/nonReinsurance\" = grepl(\"-direct\",category1)) %>% \n",
    "  mutate(\"category11\"=unlist(map(strsplit(category1, \"-direct\"),1))) %>%\n",
    "  mutate(\"category0\"=unlist(map(strsplit(category11, \"-inwards reinsurance\"),1))) %>%\n",
    "  mutate(\"category2\"=unlist(map(strsplit(category, \"!\"),2))) %>%\n",
    "  mutate(\"category3\"=unlist(map(strsplit(category, \"!\"),3))) %>% \n",
    "  select(-c(category,category11, category1))\n",
    "\n",
    "myData <-  pivot_wider(myData, id_cols = names(myData)[-2] , names_from = \"category3\", values_from = \"value\")\n",
    "\n",
    "myData <- myData %>% \n",
    "  mutate_at(c(\"Earned premiums\", \"Claims\"), function(x) x/1000)\n",
    "\n",
    "##filter out inwards reinsurance \n",
    "myData_direct <- dplyr::filter(myData, `direct/nonReinsurance` == TRUE)\n",
    "myData_indirect <- dplyr::filter(myData, `direct/nonReinsurance` == FALSE)\n",
    "\n",
    "\n",
    "####### myData_direct in gross and net data ...\n",
    "gross_data <- myData_direct %>% \n",
    "  filter(category2 == \"Gross amount\") %>% \n",
    "  select(-category2) %>% \n",
    "  filter(!near(`Earned premiums`,0))\n",
    " \n",
    "net_data <- myData %>% \n",
    "  filter(category2 != \"Gross amount\") %>% \n",
    "  select(-category2) %>% \n",
    "  filter(!near(`Earned premiums`,0)) \n",
    "\n",
    "#################################################################### \n",
    "\n",
    "gross_sum <- gross_data %>%  \n",
    "  group_by(year) %>% \n",
    "  summarize(sumPrem = sum(`Earned premiums`)/1000,  sumClaim = sum(Claims)/1000) %>%   ## summarize the mean over all insurance companies and categories\n",
    "  mutate(sumratio = sumClaim/sumPrem) %>% \n",
    "  ungroup() \n",
    "\n",
    "gross_sum1 <-pivot_longer(gross_sum, cols=c(\"sumPrem\",\"sumClaim\", \"sumratio\")) %>% \n",
    "  filter(name != \"sumratio\")\n",
    "\n",
    "ggplot(data=gross_sum1)+\n",
    "  geom_col(aes(x = year, y = value, \n",
    "               group=factor(name, levels = c('sumPrem', 'sumClaim')),\n",
    "               fill=name),\n",
    "           position = \"dodge\" )  +\n",
    "  scale_fill_brewer(palette=\"Blues\", labels=c(\"Claims\",\"Premiums\")) +\n",
    "  labs(x=\"Year\", y= \"Euro (in millions) \" ) +\n",
    "  theme_dark()+\n",
    "  geom_line(data=gross_sum, aes(x=year, y= sumratio*10000), col=\"red\")+\n",
    "  scale_y_continuous(sec.axis = sec_axis(~./10000, name = \"Claims/Premium Ratio in [%]\"))\n"
   ]
  },
  {
   "cell_type": "code",
   "execution_count": 10,
   "id": "biblical-confirmation",
   "metadata": {},
   "outputs": [
    {
     "ename": "ERROR",
     "evalue": "Error in gross_data %>% group_by(categoryy) %>% summarize(sumPrem = sum(`Earned premiums`), : konnte Funktion \"%>%\" nicht finden\n",
     "output_type": "error",
     "traceback": [
      "Error in gross_data %>% group_by(categoryy) %>% summarize(sumPrem = sum(`Earned premiums`), : konnte Funktion \"%>%\" nicht finden\nTraceback:\n"
     ]
    }
   ],
   "source": [
    "\n",
    "###finde heraus welche die 10 größten kategorien sind\n",
    "cat_sum <- gross_data %>%  \n",
    "  group_by(categoryy) %>% \n",
    "  summarize(sumPrem = sum(`Earned premiums`),  sumClaim = sum(Claims)) %>%\n",
    "  ## summarize the mean over all insurance companies.. (in year and categoryy group)\n",
    "  mutate(meanratio = sumClaim/sumPrem) %>% \n",
    "  mutate(\"anteil\" = sumPrem/sum(sumPrem)) %>% \n",
    "  ungroup() %>%  \n",
    "  arrange(desc(anteil))\n",
    "\n",
    "Top8<- cat_sum$categoryy[1:8]\n",
    "\n",
    "otherfunc<-function(x) {\n",
    "  for ( k in 1:length(x)){\n",
    "    if (!(x[k] %in% Top8)) x[k]=\"other categories\"\n",
    "  }\n",
    "  return(x)\n",
    "}\n",
    "otherfunc(\"hello\")\n",
    "\n",
    "gross_data2 <-gross_data\n",
    "gross_data2$categoryy <- otherfunc(gross_data$categoryy)\n",
    "rm(otherfunc)\n",
    "\n",
    "####erstelle Plotting Data...\n",
    "cat_sum <- gross_data2 %>%  \n",
    "  group_by(year, categoryy) %>% \n",
    "  summarize(sumPrem = sum(`Earned premiums`),  sumClaim = sum(Claims)) %>%\n",
    "  ## summarize the mean over all insurance companies.. (in year and categoryy group)\n",
    "  mutate(meanratio = sumClaim/sumPrem) %>% \n",
    "  ungroup() %>% \n",
    "  group_by(year) %>% \n",
    "  mutate(\"anteil\" = sumPrem/sum(sumPrem)) %>% \n",
    "  arrange(desc(anteil)) %>% \n",
    "  #filter(row_number()%in%c(1:7)) %>% \n",
    "  ungroup() %>% \n",
    "  mutate_at(\"sumPrem\", function(x) x/1000000)\n",
    "\n",
    "library(\"ggthemes\")\n",
    "# stacked area chart\n",
    "t<- ggplot(cat_sum, aes(x=year, y=sumPrem, fill=categoryy)) + \n",
    "  geom_area() +\n",
    "  labs(x=\"Year\", y= \"Euro (in millions) \" )  \n",
    "\n",
    "\n",
    "dd <- t + theme_tufte() + scale_fill_economist()\n",
    "dd\n",
    "png(\"plot2.png\",\n",
    "    width = 800, height = 450)\n",
    "print(dd)\n",
    "dev.off()\n"
   ]
  },
  {
   "cell_type": "code",
   "execution_count": 34,
   "id": "reported-safety",
   "metadata": {},
   "outputs": [
    {
     "data": {
      "image/png": "[encoded data removed]",
      "text/plain": [
       "plot without title"
      ]
     },
     "metadata": {},
     "output_type": "display_data"
    },
    {
     "data": {
      "image/png": "[encoded data removed]",
      "text/plain": [
       "plot without title"
      ]
     },
     "metadata": {},
     "output_type": "display_data"
    }
   ],
   "source": [
    "###find out the top categories\n",
    "prem_change <- gross_data %>%  \n",
    "  select(c(1,2,3,4,6,7)) %>% \n",
    "  filter(near(year,2002) | near(year,2019) ) %>% \n",
    "  filter(categoryy != \"Accident according to the technical principles of life assurance\")\n",
    "\n",
    "\n",
    "prem_change <- pivot_wider(prem_change, id_cols = names(prem_change)[-3] , names_from = \"year\", values_from = \"Earned premiums\")\n",
    "prem_change <- replace_na(prem_change, list(\"2002\"=0, \"2019\"=0))\n",
    "\n",
    "#premium change since 2002\n",
    "prem_change <- prem_change %>% \n",
    "  group_by(categoryy) %>%  \n",
    "  summarize(sum2019 = sum(`2019`), sum2002=sum(`2002`)) %>%\n",
    "  ungroup() %>% \n",
    "  mutate(\"change\" = sum2019-sum2002)\n",
    "  \n",
    "prem_change <- prem_change %>% \n",
    "  dplyr::filter(is.finite(change)) %>% \n",
    "    arrange(desc(change))\n",
    "###which are the categories most growing (both present in 2019 and 2002)\n",
    "Top5<- prem_change$categoryy[1:5]\n",
    "\n",
    "N<-length(prem_change$categoryy)\n",
    "Flop4 <- prem_change$categoryy[(N-3):N] ##categories most shrinking\n",
    "\n",
    "########################### barcharts ##############################\n",
    "\n",
    "prem_change <- gross_data %>%  \n",
    "  select(c(1,2,3,4,6,7)) %>% \n",
    "  filter(near(year,2002) | near(year,2010) | near(year,2019) ) %>% \n",
    "  group_by(year, categoryy) %>% \n",
    "  summarize(sumPrem = sum(`Earned premiums`)) %>%\n",
    "  ungroup()  \n",
    "\n",
    "prem1 <- prem_change %>% \n",
    "  filter(categoryy %in% Flop4) \n",
    "\n",
    "ggplot(data=prem1)+\n",
    "  geom_col(aes(x = categoryy, y = sumPrem, \n",
    "               group=year, fill=as.factor(year)),\n",
    "           position = \"dodge\" )  +\n",
    "  scale_fill_brewer(palette=\"Blues\") +\n",
    "  coord_flip() +\n",
    "  theme_bw()+theme(text = element_text(size=16)) +\n",
    "  labs(x=\"Sum of Premiums\", y= \"Category\", fill=\"Year\")\n",
    " \n",
    "prem1 <- prem_change %>% \n",
    "  filter(categoryy %in% Top5) \n",
    "\n",
    "ggplot(data=prem1)+\n",
    "  geom_col(aes(x = categoryy, y = sumPrem, \n",
    "               group=year, fill=as.factor(year)),\n",
    "           position = \"dodge\" )  +\n",
    "  scale_fill_brewer(palette=\"Blues\") +\n",
    "  coord_flip() +\n",
    "  theme_bw() +theme(text = element_text(size=16)) +\n",
    "  labs(x=\"Sum of Premiums\", y= \"Category\", fill=\"Year\")\n"
   ]
  },
  {
   "cell_type": "code",
   "execution_count": 33,
   "id": "textile-developer",
   "metadata": {},
   "outputs": [
    {
     "data": {
      "image/png": "[encoded data removed]",
      "text/plain": [
       "plot without title"
      ]
     },
     "metadata": {},
     "output_type": "display_data"
    },
    {
     "data": {
      "image/png": "[encoded data removed]",
      "text/plain": [
       "plot without title"
      ]
     },
     "metadata": {},
     "output_type": "display_data"
    }
   ],
   "source": [
    "###finde heraus welche die 10 größten kategorien sind\n",
    "prem_change <- gross_data %>%  \n",
    "  select(c(1,2,3,4,6,7)) %>% \n",
    "  filter(near(year,2002) | near(year,2019) ) %>% \n",
    "  filter(categoryy != \"Accident according to the technical principles of life assurance\")\n",
    "\n",
    "\n",
    "prem_change <- pivot_wider(prem_change, id_cols = names(prem_change)[-3] , names_from = \"year\", values_from = \"Earned premiums\")\n",
    "prem_change <- replace_na(prem_change, list(\"2002\"=0, \"2019\"=0))\n",
    "\n",
    "#premium change since 2002\n",
    "prem_change <- prem_change %>% \n",
    "  group_by(categoryy) %>%  \n",
    "  summarize(sum2019 = sum(`2019`), sum2002=sum(`2002`)) %>%\n",
    "  ungroup() %>% \n",
    "  mutate(\"anteil_2019\"=100*sum2019/sum(sum2019)) %>% \n",
    "  mutate(\"anteil_2002\"=100*sum2002/sum(sum2002)) %>% \n",
    "  mutate(\"change\" = anteil_2019 - anteil_2002)%>% \n",
    "  arrange(desc(change))\n",
    "\n",
    "###which are the categories most growing (both present in 2019 and 2002)\n",
    "Top5<- prem_change$categoryy[1:7]\n",
    "\n",
    "N<-length(prem_change$categoryy)\n",
    "Flop5 <- prem_change$categoryy[(N-7):N] ##categories most shrinking\n",
    "\n",
    "########################### barcharts ##############################\n",
    "\n",
    "\n",
    "prem1 <- prem_change %>% \n",
    "  filter(categoryy %in% Flop5) \n",
    "\n",
    "ggplot(data=prem1,aes(x = categoryy, y = change))+\n",
    "  geom_col(fill=\"darkgreen\" )  +\n",
    "  theme_bw()+theme(text = element_text(size=16)) +\n",
    "  labs(x=\"Category \", y= \"Loss as percentage of the whole market\", fill=\"Year\") +\n",
    "  coord_flip()+ \n",
    "  geom_text(aes(label = round(change, digits = 2)), vjust = +0.5, hjust=+1.2)+\n",
    "  ylim(-10,0)\n",
    "\n",
    "prem1 <- prem_change %>% \n",
    "  filter(categoryy %in% Top5) \n",
    "\n",
    "ggplot(data=prem1,aes(x = categoryy, y = change))+\n",
    "  geom_col(fill=\"darkgreen\" )  +\n",
    "  theme_bw()+theme(text = element_text(size=16)) +\n",
    "  labs(x=\"Category \", y= \"Gain as percentage of the whole market\", fill=\"Year\") +\n",
    "  coord_flip()+ \n",
    "  geom_text(aes(label = round(change, digits = 2)), vjust = +0.5, hjust=-0.2)+\n",
    "  ylim(0,3.2)\n",
    "\n"
   ]
  },
  {
   "cell_type": "code",
   "execution_count": 7,
   "id": "personalized-implementation",
   "metadata": {},
   "outputs": [
    {
     "ename": "ERROR",
     "evalue": "Error in gross_data %>% mutate(ratio = `Claims ratio in %`) %>% select(1, : konnte Funktion \"%>%\" nicht finden\n",
     "output_type": "error",
     "traceback": [
      "Error in gross_data %>% mutate(ratio = `Claims ratio in %`) %>% select(1, : konnte Funktion \"%>%\" nicht finden\nTraceback:\n"
     ]
    }
   ],
   "source": [
    "ratios_norm <- gross_data %>% \n",
    "   mutate(\"ratio\" = `Claims ratio in %`) %>% \n",
    "  select(1,3,4,7,8,10) %>% \n",
    "  filter(ratio <=100 & ratio >=0) %>% \n",
    "  group_by(categoryy) %>% \n",
    "  summarise(\"volat\"=sd(ratio))%>% \n",
    "  ungroup() %>% \n",
    "  filter(volat != 0) %>% \n",
    "  arrange(desc(volat)) %>% \n",
    "  print()\n",
    "\n",
    "top6 <- ratios_norm$categoryy[1:8]\n",
    "N<- length(ratios_norm$categoryy)\n",
    "flop6 <- ratios_norm$categoryy[(N-7):N]\n",
    "\n",
    "ratios_norm <- gross_data %>% \n",
    "  mutate(\"ratio\" = `Claims ratio in %`) %>% \n",
    "  select(1,3,4,7,8,10) %>% \n",
    "  filter(ratio <=100 & ratio >=0) %>% \n",
    "  filter(categoryy %in% top6)\n",
    "\n",
    " ggplot(data=ratios_norm)+\n",
    "  geom_boxplot(aes(x=categoryy, y=ratio), fill=\"blue\")+\n",
    "  coord_flip()+\n",
    "  labs(x=\"Category \", y= \"Claim/Premium Ratio\", fill=\"Year\")+\n",
    "  theme(text = element_text(size=16))\n",
    "  \n",
    "\n",
    "\n",
    "ratios_norm <- gross_data %>% \n",
    "  mutate(\"ratio\" = `Claims ratio in %`) %>% \n",
    "  select(1,3,4,7,8,10) %>% \n",
    "  filter(ratio <=100 & ratio >=0) %>% \n",
    "  filter(categoryy %in% flop6)\n",
    "\n",
    " ggplot(data=ratios_norm)+\n",
    "  geom_boxplot(aes(x=categoryy, y=ratio), fill=\"green\")+\n",
    "  coord_flip()+\n",
    "  labs(x=\"Category \", y= \"Claim/Premium Ratio\", fill=\"Year\")+\n",
    "  theme(text = element_text(size=16))\n"
   ]
  },
  {
   "cell_type": "code",
   "execution_count": 8,
   "id": "conditional-mouth",
   "metadata": {},
   "outputs": [
    {
     "ename": "ERROR",
     "evalue": "Error in gross_data %>% filter(categoryy != \"Accident according to the technical principles of life assurance\") %>% : konnte Funktion \"%>%\" nicht finden\n",
     "output_type": "error",
     "traceback": [
      "Error in gross_data %>% filter(categoryy != \"Accident according to the technical principles of life assurance\") %>% : konnte Funktion \"%>%\" nicht finden\nTraceback:\n"
     ]
    }
   ],
   "source": [
    "ratios <- gross_data %>% \n",
    "  filter(categoryy != \"Accident according to the technical principles of life assurance\") %>% \n",
    "  mutate(\"ratio\" = `Claims ratio in %`) %>% \n",
    "  select(1,3,4,7,8,10) %>%  \n",
    "  group_by(categoryy) %>% \n",
    "  summarise(\"outliers\"=100*sum(ratio > 100)/sum(ratio <Inf))%>% \n",
    "  ungroup() %>% \n",
    "  arrange(desc(outliers)) %>% \n",
    "  print(n=36)\n",
    "\n",
    "rat1 <- ratios[1:10,]\n",
    "ggplot(data=rat1, aes(x = categoryy, y = outliers))+\n",
    "  geom_col(fill=\"tomato4\" )  +\n",
    "  theme_bw()+theme(text = element_text(size=16)) +\n",
    "  labs(x=\"Category \", y= \"Percentage of Companies ending up with a Claim/Premium Ratio >1 \", fill=\"Year\") +\n",
    "  coord_flip()+\n",
    "  ylim(0,50)\n",
    "\n",
    "rat1 <- ratios[27:36,] %>% drop_na()\n",
    "ggplot(data=rat1, aes(x = categoryy, y = outliers))+\n",
    "  geom_col(fill=\"tomato4\" )  +\n",
    "theme_bw()+theme(text = element_text(size=16)) +\n",
    "  labs(x=\"Category \", y= \"Percentage of Companies ending up with a Claim/Premium Ratio >1 \", fill=\"Year\") +\n",
    "  coord_flip() + \n",
    "  ylim(0,50) \n",
    " \n"
   ]
  }
 ],
 "metadata": {
  "kernelspec": {
   "display_name": "R",
   "language": "R",
   "name": "ir"
  },
  "language_info": {
   "codemirror_mode": "r",
   "file_extension": ".r",
   "mimetype": "text/x-r-source",
   "name": "R",
   "pygments_lexer": "r",
   "version": "3.6.1"
  }
 },
 "nbformat": 4,
 "nbformat_minor": 5
}
